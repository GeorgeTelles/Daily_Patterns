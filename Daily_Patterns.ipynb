{
  "nbformat": 4,
  "nbformat_minor": 0,
  "metadata": {
    "colab": {
      "provenance": [],
      "authorship_tag": "ABX9TyOE7rHL+hcvHGpXCNdz1V02",
      "include_colab_link": true
    },
    "kernelspec": {
      "name": "python3",
      "display_name": "Python 3"
    },
    "language_info": {
      "name": "python"
    }
  },
  "cells": [
    {
      "cell_type": "markdown",
      "metadata": {
        "id": "view-in-github",
        "colab_type": "text"
      },
      "source": [
        "<a href=\"https://colab.research.google.com/github/GeorgeTelles/Daily_Patterns/blob/main/Daily_Patterns.ipynb\" target=\"_parent\"><img src=\"https://colab.research.google.com/assets/colab-badge.svg\" alt=\"Open In Colab\"/></a>"
      ]
    },
    {
      "cell_type": "markdown",
      "source": [
        "<div>\n",
        "  <img src=\"https://raw.githubusercontent.com/GeorgeTelles/georgetelles/f69531ec6b293b5148563588a764c010015d315e/logo_clara.png\" alt=\"logo clara\" width=\"300\" style=\"display: inline-block; vertical-align: top; margin-right: 10px;\">\n",
        "  <img src=\"https://raw.githubusercontent.com/GeorgeTelles/georgetelles/f69531ec6b293b5148563588a764c010015d315e/logo_dark.png\" alt=\"logo dark\" width=\"300\" style=\"display: inline-block; vertical-align: top;\">\n",
        "</div>"
      ],
      "metadata": {
        "id": "mGYPYq3BZWi3"
      }
    },
    {
      "cell_type": "markdown",
      "source": [
        "# Análise da Variação Percentual Diária de Ativos Financeiros: Uma Abordagem Quantitativa"
      ],
      "metadata": {
        "id": "FbDNNK-5k-XP"
      }
    },
    {
      "cell_type": "markdown",
      "source": [
        "## Resumo\n",
        "\n",
        "Este projeto em Python realiza uma análise quantitativa detalhada da variação percentual diária de ativos financeiros, com o objetivo de identificar padrões e tendências associadas aos dias da semana. Utilizando dados de preços históricos extraídos do Yahoo Finance e informações setoriais fornecidas pela biblioteca `tradingcomdados`, este estudo examina se a variação percentual dos preços de ativos segue padrões sistemáticos em diferentes dias da semana.\n",
        "\n",
        "## Objetivo\n",
        "\n",
        "O objetivo principal deste estudo é investigar a presença de padrões na variação percentual diária dos preços dos ativos ao longo dos dias da semana. A análise busca responder à seguinte questão de pesquisa: Existe uma tendência recorrente na variação percentual dos ativos financeiros em determinados dias da semana? Essa análise pode fornecer insights valiosos para investidores e analistas financeiros.\n",
        "\n",
        "## Metodologia\n",
        "\n",
        "1. **Coleta de Dados**:\n",
        "   - **Fontes de Dados**: Dados históricos de preços dos ativos são obtidos através da biblioteca `yfinance`, enquanto informações setoriais são extraídas utilizando `tradingcomdados`.\n",
        "   - **Ativos Analisados**: Incluem ativos listados na B3, componentes do índice Ibovespa (IBOV), e um ativo personalizado.\n",
        "\n",
        "2. **Processamento dos Dados**:\n",
        "   - **Cálculo da Variação Percentual**\n",
        "   - **Tratamento de Outliers**: Outliers são identificados e removidos com base em desvios padrão para garantir a integridade dos dados.\n",
        "   - **Agrupamento por Dia da Semana**: Os dados são agrupados por dia da semana para calcular estatísticas descritivas como a soma e a média das variações percentuais.\n",
        "\n",
        "3. **Análise dos Resultados**:\n",
        "   - **Resultados Individuais**: São apresentados resultados detalhados para cada ativo e dia da semana, incluindo a soma total e a média das variações percentuais.\n",
        "   - **Análise Agregada**: A análise média é realizada para identificar padrões gerais na variação percentual dos preços por dia da semana.\n",
        "\n",
        "## Resultados e Discussão\n",
        "\n",
        "O estudo gera um DataFrame contendo as seguintes métricas:\n",
        "- **Empresa**: Identificação do ativo analisado.\n",
        "- **Dia_Semana**: Dia da semana correspondente.\n",
        "- **Resultado Total**: Soma das variações percentuais diárias para o ativo.\n",
        "- **Média por Dia**: Média das variações percentuais diárias para o ativo.\n",
        "\n",
        "Os resultados são apresentados de forma a destacar padrões significativos e diferenças entre os dias da semana. A análise agregada fornece uma visão geral das tendências da variação percentual ao longo dos dias da semana.\n",
        "\n",
        "## Conclusão\n",
        "\n",
        "Através desta análise, busca-se identificar se existe um padrão consistente na variação percentual dos ativos financeiros em diferentes dias da semana, o que pode informar estratégias de investimento e decisões financeiras. O estudo contribui para a compreensão dos comportamentos de mercado e pode servir como base para futuras pesquisas em finanças quantitativas.\n",
        "\n",
        "## Requisitos\n",
        "\n",
        "- **Bibliotecas**: `yfinance`, `tradingcomdados`, `pandas`.\n",
        "- **Instalação**: As bibliotecas necessárias podem ser instaladas via pip:\n",
        "\n",
        "    ```bash\n",
        "    pip install yfinance tradingcomdados pandas\n",
        "    ```\n",
        "\n",
        "## Contribuições\n",
        "\n",
        "Este projeto é aberto a contribuições. Pesquisadores e praticantes são incentivados a submeter sugestões e melhorias através de issues e pull requests.\n",
        "\n",
        "## Licença\n",
        "\n",
        "Este projeto está licenciado sob a [MIT License](LICENSE).\n",
        "\n"
      ],
      "metadata": {
        "id": "ONJOhEC1k8LZ"
      }
    },
    {
      "cell_type": "markdown",
      "source": [
        "#1. Importanto Bibliotecas"
      ],
      "metadata": {
        "id": "a-NyMWObDZIm"
      }
    },
    {
      "cell_type": "code",
      "source": [
        "!pip install numpy\n",
        "!pip install tradingcomdados\n",
        "!pip install vectorbt"
      ],
      "metadata": {
        "id": "RBj1Kh-KEeKX"
      },
      "execution_count": null,
      "outputs": []
    },
    {
      "cell_type": "code",
      "execution_count": null,
      "metadata": {
        "id": "a2iXX6AqDRvq"
      },
      "outputs": [],
      "source": [
        "import yfinance as yf\n",
        "\n",
        "from tradingcomdados import alternative_data as ad\n",
        "\n",
        "from datetime import datetime\n",
        "from dateutil import parser\n",
        "import pandas as pd\n",
        "\n",
        "import vectorbt as vbt"
      ]
    },
    {
      "cell_type": "markdown",
      "source": [
        "#2. Formando a lista de ativos"
      ],
      "metadata": {
        "id": "Ga86SmGfEDBh"
      }
    },
    {
      "cell_type": "markdown",
      "source": [
        "**Todos os ativos da B3**"
      ],
      "metadata": {
        "id": "dgLZo2nMRGBv"
      }
    },
    {
      "cell_type": "code",
      "source": [
        "ativos = ad.get_sectors(\"B3\").TICKER + \".SA\"\n",
        "lista_ativos = ativos.to_list()"
      ],
      "metadata": {
        "id": "-ffyi3KaEEpB"
      },
      "execution_count": null,
      "outputs": []
    },
    {
      "cell_type": "markdown",
      "source": [
        "**Ativos do Ibovespa (IBOV)**"
      ],
      "metadata": {
        "id": "0StKD_HXRJXY"
      }
    },
    {
      "cell_type": "code",
      "source": [
        "lista_ativos = [codigo + '.SA' for codigo in ad.index_composition('ibov', mode = 'list')]"
      ],
      "metadata": {
        "id": "P9ZZVMqGRM6n"
      },
      "execution_count": null,
      "outputs": []
    },
    {
      "cell_type": "markdown",
      "source": [
        "**Ativo personalizado**"
      ],
      "metadata": {
        "id": "b8gpDzWeRiAg"
      }
    },
    {
      "cell_type": "code",
      "source": [
        "lista_ativos = [\"^BVSP\",]"
      ],
      "metadata": {
        "id": "myxmR-D_Q8P_"
      },
      "execution_count": null,
      "outputs": []
    },
    {
      "cell_type": "markdown",
      "source": [
        "#4. Processamento dos dados"
      ],
      "metadata": {
        "id": "OitHZQaUS4kX"
      }
    },
    {
      "cell_type": "code",
      "source": [
        "empresas = []\n",
        "dias_semana = []\n",
        "resultados = []\n",
        "medias = []\n",
        "\n",
        "traducao_dias = {\n",
        "    'Monday': 'Segunda-feira',\n",
        "    'Tuesday': 'Terça-feira',\n",
        "    'Wednesday': 'Quarta-feira',\n",
        "    'Thursday': 'Quinta-feira',\n",
        "    'Friday': 'Sexta-feira',\n",
        "    'Saturday': 'Sábado',\n",
        "    'Sunday': 'Domingo'\n",
        "}\n",
        "\n",
        "for ativo in lista_ativos:\n",
        "    try:\n",
        "        candles = yf.download(ativo, \"2020-01-01\")\n",
        "        rates_frame = candles.copy()\n",
        "        rates_frame['Dia_Semana'] = rates_frame.index.day_name()\n",
        "        rates_frame['Dia_Semana_PT'] = rates_frame['Dia_Semana'].map(traducao_dias)\n",
        "        rates_frame['Variacao_Porcentagem'] = ((rates_frame['Close'] - rates_frame['Open']) / rates_frame['Open']) * 100\n",
        "\n",
        "        #Tratando os outliers:\n",
        "        mean = rates_frame['Variacao_Porcentagem'].mean()\n",
        "        std_dev = rates_frame['Variacao_Porcentagem'].std()\n",
        "        lower_bound = mean - 3 * std_dev\n",
        "        upper_bound = mean + 3 * std_dev\n",
        "\n",
        "        # Atualizar rates_frame para remover outliers\n",
        "        rates_frame = rates_frame[\n",
        "            (rates_frame['Variacao_Porcentagem'] >= lower_bound) &\n",
        "            (rates_frame['Variacao_Porcentagem'] <= upper_bound)\n",
        "        ]\n",
        "\n",
        "        grupo_dia_semana = rates_frame.groupby('Dia_Semana')['Variacao_Porcentagem']\n",
        "\n",
        "        # Iterar sobre os grupos e imprimir os dados\n",
        "        for nome_grupo, indice_grupo in grupo_dia_semana.groups.items():\n",
        "\n",
        "            dados_grupo = rates_frame.loc[indice_grupo, 'Variacao_Porcentagem']\n",
        "            # print(f\"Dados do grupo {nome_grupo}:\")\n",
        "            # print(dados_grupo)\n",
        "\n",
        "            resultado_soma = grupo_dia_semana.sum().loc[nome_grupo]  # Calcular soma para o grupo específico\n",
        "\n",
        "            resultado_media = grupo_dia_semana.mean().loc[nome_grupo]  # Calcular média para o grupo específico\n",
        "\n",
        "            resultado_formatado = \"{:.2f}\".format(resultado_soma)\n",
        "            resultado_media_formatado = \"{:.2f}\".format(resultado_media)\n",
        "\n",
        "\n",
        "            # # Verificar se há algum dado negativo\n",
        "            # if any(dados_grupo < -5):\n",
        "            #     print(f\"Dia(s) da semana com variação negativa encontrado(s). Descartando...\")\n",
        "            #     continue\n",
        "\n",
        "            # if resultado_soma < 90:\n",
        "            #     print(f\"Soma dos resultados é inferior a mèdia. Descartando...\")\n",
        "            #     continue\n",
        "\n",
        "            empresas.append(ativo)\n",
        "            dias_semana.append(traducao_dias.get(nome_grupo, nome_grupo))\n",
        "            resultados.append(resultado_formatado)\n",
        "            medias.append(resultado_media_formatado)\n",
        "\n",
        "\n",
        "    except Exception as e:\n",
        "        print(f\"Erro ao processar o ativo {ativo}: {e}\")\n",
        "\n",
        "df_resultados = pd.DataFrame({\n",
        "    'Empresa': empresas,\n",
        "    'Dia_Semana': dias_semana,\n",
        "    'Resultado Total': resultados,\n",
        "    'Media por dia': medias\n",
        "})\n",
        "df_resultados['Resultado Total'] = pd.to_numeric(df_resultados['Resultado Total'])\n",
        "df_resultados['Media por dia'] = pd.to_numeric(df_resultados['Media por dia'])"
      ],
      "metadata": {
        "id": "NsADLn-UFSi-"
      },
      "execution_count": null,
      "outputs": []
    },
    {
      "cell_type": "markdown",
      "source": [
        "#5. Resultado de cada empresa e cada dia da semana"
      ],
      "metadata": {
        "id": "W4FYdc5-O0-m"
      }
    },
    {
      "cell_type": "code",
      "source": [
        "df_resultados_separado = df_resultados.sort_values(by='Resultado Total', ascending=False)\n",
        "df_resultados_separado"
      ],
      "metadata": {
        "id": "43j3VkLfO40H"
      },
      "execution_count": null,
      "outputs": []
    },
    {
      "cell_type": "markdown",
      "source": [
        "#6. Resultado por dia da semana tirando a média do mercado"
      ],
      "metadata": {
        "id": "bwx59XGnO_f-"
      }
    },
    {
      "cell_type": "code",
      "source": [
        "df_resultados.groupby(\"Dia_Semana\")[[\"Resultado Total\",\"Media por dia\"]].mean().sort_values(by='Resultado Total', ascending=False)"
      ],
      "metadata": {
        "id": "89fRV1xDOCSe"
      },
      "execution_count": null,
      "outputs": []
    }
  ]
}