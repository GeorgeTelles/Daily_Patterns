{
  "cells": [
    {
      "cell_type": "markdown",
      "metadata": {
        "id": "FbDNNK-5k-XP"
      },
      "source": [
        "# Análise da Variação Percentual Diária de Ativos Financeiros: Uma Abordagem Quantitativa"
      ]
    },
    {
      "cell_type": "markdown",
      "metadata": {
        "id": "ONJOhEC1k8LZ"
      },
      "source": [
        "## Resumo\n",
        "\n",
        "Este projeto em Python realiza uma análise quantitativa detalhada da variação percentual diária de ativos financeiros, com o objetivo de identificar padrões e tendências associadas aos dias da semana. Utilizando dados de preços históricos extraídos do Yahoo Finance e informações setoriais fornecidas pela biblioteca `tradingcomdados`, este estudo examina se a variação percentual dos preços de ativos segue padrões sistemáticos em diferentes dias da semana.\n",
        "\n",
        "## Objetivo\n",
        "\n",
        "O objetivo principal deste estudo é investigar a presença de padrões na variação percentual diária dos preços dos ativos ao longo dos dias da semana. A análise busca responder à seguinte questão de pesquisa: Existe uma tendência recorrente na variação percentual dos ativos financeiros em determinados dias da semana? Essa análise pode fornecer insights valiosos para investidores e analistas financeiros.\n",
        "\n",
        "## Metodologia\n",
        "\n",
        "1. **Coleta de Dados**:\n",
        "   - **Fontes de Dados**: Dados históricos de preços dos ativos são obtidos através da biblioteca `yfinance`, enquanto informações setoriais são extraídas utilizando `tradingcomdados`.\n",
        "   - **Ativos Analisados**: Incluem ativos listados na B3, componentes do índice Ibovespa (IBOV), e um ativo personalizado.\n",
        "\n",
        "2. **Processamento dos Dados**:\n",
        "   - **Cálculo da Variação Percentual**\n",
        "   - **Tratamento de Outliers**: Outliers são identificados e removidos com base em desvios padrão para garantir a integridade dos dados.\n",
        "   - **Agrupamento por Dia da Semana**: Os dados são agrupados por dia da semana para calcular estatísticas descritivas como a soma e a média das variações percentuais.\n",
        "\n",
        "3. **Análise dos Resultados**:\n",
        "   - **Resultados Individuais**: São apresentados resultados detalhados para cada ativo e dia da semana, incluindo a soma total e a média das variações percentuais.\n",
        "   - **Análise Agregada**: A análise média é realizada para identificar padrões gerais na variação percentual dos preços por dia da semana.\n",
        "\n",
        "## Resultados e Discussão\n",
        "\n",
        "O estudo gera um DataFrame contendo as seguintes métricas:\n",
        "- **Empresa**: Identificação do ativo analisado.\n",
        "- **Dia_Semana**: Dia da semana correspondente.\n",
        "- **Resultado Total**: Soma das variações percentuais diárias para o ativo.\n",
        "- **Média por Dia**: Média das variações percentuais diárias para o ativo.\n",
        "\n",
        "Os resultados são apresentados de forma a destacar padrões significativos e diferenças entre os dias da semana. A análise agregada fornece uma visão geral das tendências da variação percentual ao longo dos dias da semana.\n",
        "\n",
        "## Conclusão\n",
        "\n",
        "Através desta análise, busca-se identificar se existe um padrão consistente na variação percentual dos ativos financeiros em diferentes dias da semana, o que pode informar estratégias de investimento e decisões financeiras. O estudo contribui para a compreensão dos comportamentos de mercado e pode servir como base para futuras pesquisas em finanças quantitativas.\n",
        "\n",
        "## Requisitos\n",
        "\n",
        "- **Bibliotecas**: `yfinance`, `tradingcomdados`, `pandas`.\n",
        "- **Instalação**: As bibliotecas necessárias podem ser instaladas via pip:\n",
        "\n",
        "    ```bash\n",
        "    pip install yfinance tradingcomdados pandas\n",
        "    ```\n",
        "\n",
        "## Contribuições\n",
        "\n",
        "Este projeto é aberto a contribuições. Pesquisadores e praticantes são incentivados a submeter sugestões e melhorias através de issues e pull requests.\n",
        "\n",
        "## Licença\n",
        "\n",
        "Este projeto está licenciado sob a [MIT License](LICENSE).\n",
        "\n"
      ]
    },
    {
      "cell_type": "markdown",
      "metadata": {
        "id": "a-NyMWObDZIm"
      },
      "source": [
        "# 1. Importanto Bibliotecas"
      ]
    },
    {
      "cell_type": "code",
      "execution_count": null,
      "metadata": {
        "colab": {
          "base_uri": "https://localhost:8080/",
          "height": 1000
        },
        "id": "RBj1Kh-KEeKX",
        "outputId": "f5271319-6fdb-4268-f85c-dba93cf455ae"
      },
      "outputs": [],
      "source": [
        "!pip install numpy\n",
        "!pip install tradingcomdados\n",
        "!pip install vectorbt"
      ]
    },
    {
      "cell_type": "code",
      "execution_count": null,
      "metadata": {
        "id": "a2iXX6AqDRvq"
      },
      "outputs": [],
      "source": [
        "import yfinance as yf\n",
        "\n",
        "from tradingcomdados import alternative_data as ad\n",
        "\n",
        "from datetime import datetime\n",
        "from dateutil import parser\n",
        "import pandas as pd\n",
        "\n",
        "import vectorbt as vbt\n",
        "\n",
        "import MetaTrader5 as mt5"
      ]
    },
    {
      "cell_type": "markdown",
      "metadata": {
        "id": "Ga86SmGfEDBh"
      },
      "source": [
        "# 2. Formando a lista de ativos"
      ]
    },
    {
      "cell_type": "markdown",
      "metadata": {
        "id": "dgLZo2nMRGBv"
      },
      "source": [
        "**Mini Indice IBOV**"
      ]
    },
    {
      "cell_type": "code",
      "execution_count": null,
      "metadata": {
        "id": "-ffyi3KaEEpB"
      },
      "outputs": [],
      "source": [
        "lista_ativos = [\"WIN$\", \"WIN@\",\"WIN$N\", \"WIN@N\",]"
      ]
    },
    {
      "cell_type": "markdown",
      "metadata": {},
      "source": [
        "**Mini Dolar**"
      ]
    },
    {
      "cell_type": "code",
      "execution_count": null,
      "metadata": {},
      "outputs": [],
      "source": [
        "lista_ativos = [\"WDO$\", \"WDO@\",\"WDO$N\", \"WDO@N\",]"
      ]
    },
    {
      "cell_type": "markdown",
      "metadata": {
        "id": "OitHZQaUS4kX"
      },
      "source": [
        "# 4. Processamento dos dados"
      ]
    },
    {
      "cell_type": "code",
      "execution_count": null,
      "metadata": {
        "colab": {
          "base_uri": "https://localhost:8080/"
        },
        "id": "NsADLn-UFSi-",
        "outputId": "ead12535-6278-4976-83f9-bda6d8289de2"
      },
      "outputs": [],
      "source": [
        "data_inicial = datetime(2023, 1, 1)\n",
        "\n",
        "empresas = []\n",
        "dias_semana = []\n",
        "resultados = []\n",
        "medias = []\n",
        "\n",
        "traducao_dias = {\n",
        "    'Monday': 'Segunda-feira',\n",
        "    'Tuesday': 'Terça-feira',\n",
        "    'Wednesday': 'Quarta-feira',\n",
        "    'Thursday': 'Quinta-feira',\n",
        "    'Friday': 'Sexta-feira',\n",
        "    'Saturday': 'Sábado',\n",
        "    'Sunday': 'Domingo'\n",
        "}\n",
        "\n",
        "for ativo in lista_ativos:\n",
        "    mt5.initialize()\n",
        "    try:\n",
        "        candles = mt5.copy_rates_range(ativo, mt5.TIMEFRAME_D1, data_inicial, datetime.today())\n",
        "        rates_frame = pd.DataFrame(candles)\n",
        "        rates_frame['time'] = pd.to_datetime(rates_frame['time'], unit='s')\n",
        "        rates_frame['Dia_Semana'] = rates_frame['time'].dt.day_name()\n",
        "        rates_frame['Dia_Semana_PT'] = rates_frame['Dia_Semana'].map(traducao_dias)\n",
        "        rates_frame['Variacao'] = rates_frame['close'] - rates_frame['open']\n",
        "\n",
        "        #Tratando os outliers:\n",
        "        mean = rates_frame['Variacao'].mean()\n",
        "        std_dev = rates_frame['Variacao'].std()\n",
        "        lower_bound = mean - 3 * std_dev\n",
        "        upper_bound = mean + 3 * std_dev\n",
        "\n",
        "        # Atualizar rates_frame para remover outliers\n",
        "        rates_frame = rates_frame[\n",
        "            (rates_frame['Variacao'] >= lower_bound) &\n",
        "            (rates_frame['Variacao'] <= upper_bound)\n",
        "        ]\n",
        "\n",
        "        grupo_dia_semana = rates_frame.groupby('Dia_Semana')['Variacao']\n",
        "\n",
        "        # Iterar sobre os grupos e imprimir os dados\n",
        "        for nome_grupo, indice_grupo in grupo_dia_semana.groups.items():\n",
        "\n",
        "            dados_grupo = rates_frame.loc[indice_grupo, 'Variacao']\n",
        "            # print(f\"Dados do grupo {nome_grupo}:\")\n",
        "            # print(dados_grupo)\n",
        "\n",
        "            resultado_soma = grupo_dia_semana.sum().loc[nome_grupo]  # Calcular soma para o grupo específico\n",
        "\n",
        "            resultado_media = grupo_dia_semana.mean().loc[nome_grupo]  # Calcular média para o grupo específico\n",
        "\n",
        "            resultado_formatado = \"{:.2f}\".format(resultado_soma)\n",
        "            resultado_media_formatado = \"{:.2f}\".format(resultado_media)\n",
        "\n",
        "\n",
        "            # # Verificar se há algum dado negativo\n",
        "            # if any(dados_grupo < -5):\n",
        "            #     print(f\"Dia(s) da semana com variação negativa encontrado(s). Descartando...\")\n",
        "            #     continue\n",
        "\n",
        "            # if resultado_soma < 90:\n",
        "            #     print(f\"Soma dos resultados é inferior a mèdia. Descartando...\")\n",
        "            #     continue\n",
        "\n",
        "            empresas.append(ativo)\n",
        "            dias_semana.append(traducao_dias.get(nome_grupo, nome_grupo))\n",
        "            resultados.append(resultado_formatado)\n",
        "            medias.append(resultado_media_formatado)\n",
        "\n",
        "\n",
        "    except Exception as e:\n",
        "        print(f\"Erro ao processar o ativo {ativo}: {e}\")\n",
        "\n",
        "df_resultados = pd.DataFrame({\n",
        "    'Empresa': empresas,\n",
        "    'Dia_Semana': dias_semana,\n",
        "    'Pontos Total': resultados,\n",
        "    'Média Pontos por dia': medias\n",
        "})\n",
        "df_resultados['Pontos Total'] = pd.to_numeric(df_resultados['Pontos Total'])\n",
        "df_resultados['Média Pontos por dia'] = pd.to_numeric(df_resultados['Média Pontos por dia'])"
      ]
    },
    {
      "cell_type": "markdown",
      "metadata": {
        "id": "W4FYdc5-O0-m"
      },
      "source": [
        "# 5. Resultado de cada empresa e cada dia da semana"
      ]
    },
    {
      "cell_type": "code",
      "execution_count": null,
      "metadata": {
        "colab": {
          "base_uri": "https://localhost:8080/",
          "height": 206
        },
        "id": "43j3VkLfO40H",
        "outputId": "265e6fb7-10ab-4c2d-b376-13c34e367b98"
      },
      "outputs": [],
      "source": [
        "df_resultados_separado = df_resultados.sort_values(by='Pontos Total', ascending=False)\n",
        "df_resultados_separado"
      ]
    },
    {
      "cell_type": "markdown",
      "metadata": {
        "id": "bwx59XGnO_f-"
      },
      "source": [
        "# 6. Resultado por dia da semana tirando a média do mercado"
      ]
    },
    {
      "cell_type": "code",
      "execution_count": null,
      "metadata": {
        "colab": {
          "base_uri": "https://localhost:8080/",
          "height": 237
        },
        "id": "89fRV1xDOCSe",
        "outputId": "ba5388b1-ee82-4659-eae0-15ffe25ff9f9"
      },
      "outputs": [],
      "source": [
        "df_resultados.groupby(\"Dia_Semana\")[[\"Pontos Total\",\"Média Pontos por dia\"]].mean().sort_values(by='Pontos Total', ascending=False)"
      ]
    }
  ],
  "metadata": {
    "colab": {
      "provenance": []
    },
    "kernelspec": {
      "display_name": "Python 3",
      "name": "python3"
    },
    "language_info": {
      "codemirror_mode": {
        "name": "ipython",
        "version": 3
      },
      "file_extension": ".py",
      "mimetype": "text/x-python",
      "name": "python",
      "nbconvert_exporter": "python",
      "pygments_lexer": "ipython3",
      "version": "3.12.4"
    }
  },
  "nbformat": 4,
  "nbformat_minor": 0
}
